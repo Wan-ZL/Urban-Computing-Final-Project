{
 "cells": [
  {
   "cell_type": "code",
   "execution_count": 3,
   "metadata": {},
   "outputs": [],
   "source": [
    "import networkx as nx\n",
    "import pandas as pd\n"
   ]
  },
  {
   "cell_type": "code",
   "execution_count": 16,
   "metadata": {},
   "outputs": [],
   "source": [
    "# load data to dataframe\n",
    "\n",
    "def load_bike_data(inputfile, head_row=0, separator=','):\n",
    "    return pd.read_csv(inputfile, header=head_row, sep=separator)\n",
    "    "
   ]
  },
  {
   "cell_type": "code",
   "execution_count": null,
   "metadata": {},
   "outputs": [],
   "source": [
    "# dataframe to network"
   ]
  },
  {
   "cell_type": "code",
   "execution_count": 19,
   "metadata": {},
   "outputs": [
    {
     "name": "stdout",
     "output_type": "stream",
     "text": [
      "          Duration       Start date                  Start Station  \\\n",
      "0        0h 5m 37s    8/1/2014 0:00                  5th & K St NW   \n",
      "1       0h 17m 45s    8/1/2014 0:01             34th & Water St NW   \n",
      "2        0h 6m 45s    8/1/2014 0:01     14th & Rhode Island Ave NW   \n",
      "3       0h 12m 28s    8/1/2014 0:01                 11th & K St NW   \n",
      "4        0h 0m 40s    8/1/2014 0:01  22nd & I St NW / Foggy Bottom   \n",
      "...            ...              ...                            ...   \n",
      "157444  0h 10m 53s  8/15/2014 23:58  19th St & Constitution Ave NW   \n",
      "157445    0h 4m 6s  8/15/2014 23:58           16th & Harvard St NW   \n",
      "157446  0h 11m 39s  8/15/2014 23:58                 14th & R St NW   \n",
      "157447  0h 10m 18s  8/15/2014 23:58  19th St & Constitution Ave NW   \n",
      "157448   1h 2m 33s  8/15/2014 23:59      Jefferson Dr & 14th St SW   \n",
      "\n",
      "              End date                                   End Station   Bike#  \\\n",
      "0        8/1/2014 0:05                                 Thomas Circle  W20239   \n",
      "1        8/1/2014 0:18                   New Hampshire Ave & T St NW  W20815   \n",
      "2        8/1/2014 0:08                      20th St & Florida Ave NW  W00286   \n",
      "3        8/1/2014 0:14                          14th & Belmont St NW  W20737   \n",
      "4        8/1/2014 0:02                 22nd & I St NW / Foggy Bottom  W21353   \n",
      "...                ...                                           ...     ...   \n",
      "157444  8/16/2014 0:09                 25th St & Pennsylvania Ave NW  W00557   \n",
      "157445  8/16/2014 0:02                       Lamont & Mt Pleasant NW  W01198   \n",
      "157446  8/16/2014 0:10             Convention Center / 7th & M St NW  W20912   \n",
      "157447  8/16/2014 0:09                 25th St & Pennsylvania Ave NW  W21594   \n",
      "157448  8/16/2014 1:01  Eastern Market / 7th & North Carolina Ave SE  W21063   \n",
      "\n",
      "       Subscription Type  \n",
      "0             Registered  \n",
      "1                 Casual  \n",
      "2             Registered  \n",
      "3             Registered  \n",
      "4             Registered  \n",
      "...                  ...  \n",
      "157444            Casual  \n",
      "157445        Registered  \n",
      "157446        Registered  \n",
      "157447            Casual  \n",
      "157448            Casual  \n",
      "\n",
      "[157449 rows x 7 columns]\n"
     ]
    }
   ],
   "source": [
    "\n",
    "df = load_bike_data(\"Data/D.C/Bike-D.C..csv\")\n",
    "print(df)"
   ]
  },
  {
   "cell_type": "code",
   "execution_count": null,
   "metadata": {},
   "outputs": [],
   "source": []
  }
 ],
 "metadata": {
  "kernelspec": {
   "display_name": "Python 3",
   "language": "python",
   "name": "python3"
  },
  "language_info": {
   "codemirror_mode": {
    "name": "ipython",
    "version": 3
   },
   "file_extension": ".py",
   "mimetype": "text/x-python",
   "name": "python",
   "nbconvert_exporter": "python",
   "pygments_lexer": "ipython3",
   "version": "3.7.3"
  }
 },
 "nbformat": 4,
 "nbformat_minor": 4
}
